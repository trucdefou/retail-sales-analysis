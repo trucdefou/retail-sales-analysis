{
 "cells": [
  {
   "cell_type": "markdown",
   "metadata": {},
   "source": [
    "Tarea: Proyecto I. Parte 2 (Core)\n",
    "Nombre: Luciano Benjamín Recalde Carballo"
   ]
  },
  {
   "cell_type": "markdown",
   "metadata": {},
   "source": [
    "Cargar los Datos"
   ]
  },
  {
   "cell_type": "code",
   "execution_count": null,
   "metadata": {},
   "outputs": [],
   "source": [
    "import pandas as pd\n",
    "df = pd.read_csv('data/retail_sales_dataset.csv')\n",
    "\n",
    "# Ver las primeras filas del DataFrame\n",
    "print(\"Primeras filas del DataFrame:\")\n",
    "print(df.head(10))"
   ]
  },
  {
   "cell_type": "markdown",
   "metadata": {},
   "source": [
    "Exploración Inicial de los Datos"
   ]
  },
  {
   "cell_type": "code",
   "execution_count": null,
   "metadata": {},
   "outputs": [],
   "source": [
    "# Ver últimas filas del DataFrame\n",
    "print(\"Últimas filas del DataFrame:\")\n",
    "print(df.tail(5))\n",
    "# Obtener información general sobre el DataFrame\n",
    "print(\"Información del DataFrame:\")\n",
    "print(df.info())\n",
    "# Generar estadísticas descriptivas\n",
    "print(\"Estadísticas descriptivas del DataFrame:\")\n",
    "print(df.describe())"
   ]
  },
  {
   "cell_type": "markdown",
   "metadata": {},
   "source": [
    "Inspección de los Datos"
   ]
  },
  {
   "cell_type": "code",
   "execution_count": null,
   "metadata": {},
   "outputs": [],
   "source": [
    "# Inspeccionar los tipos de datos de las columnas\n",
    "print(\"Tipos de datos de las columnas:\")\n",
    "print(df.dtypes)\n",
    "\n",
    "# Contar valores únicos en una columna específica\n",
    "print(\"Conteo de valores únicos en la columna 'Product Category':\")\n",
    "print(df['Product Category'].value_counts())\n",
    "\n",
    "# Obtener valores únicos en una columna específica (se usa Gender, por que el dataset no coincide con lo que pide el ejercicio)\n",
    "print(\"Valores únicos en la columna 'Gender':\")\n",
    "print(df['Gender'].unique())"
   ]
  },
  {
   "cell_type": "markdown",
   "metadata": {},
   "source": [
    "Filtrado de Datos"
   ]
  },
  {
   "cell_type": "code",
   "execution_count": null,
   "metadata": {},
   "outputs": [],
   "source": [
    "# Filtrar ventas > 50 \n",
    "ventas_mayor_50 = df[df['Quantity'] > 3]  #se cambia el filtrado por 3, ya que el dataset no está diseçado para este ejercicio. Jamás se llega a ventas superiores a 50 unidades.\n",
    "print(\"Filtrar ventas > 3\")\n",
    "print(ventas_mayor_50)\n",
    "\n",
    "# Filtrar precio > 0.5\n",
    "precio_menor_05 = df[df['Price per Unit'] < 30] #se cambia el filtrado por 10, mis razón que arriba. Los precios del enunciado son muy bajos en comparación a los precios del dataset.\n",
    "print(\"Precios menores a 30\")\n",
    "print(precio_menor_05)\n",
    "\n",
    "# Método Query para categoria electrónica y cantidad total mayor a 500. El queryset original del ejercicio no coincide con el enunciado\n",
    "query_result = df.query('`Product Category` == \"Electronics\" & `Total Amount` > 500')\n",
    "print(\"Query de Productos de electrónica con monto total superior a 500\")\n",
    "print(query_result)"
   ]
  },
  {
   "cell_type": "markdown",
   "metadata": {},
   "source": [
    "Slicing de Datos"
   ]
  },
  {
   "cell_type": "code",
   "execution_count": null,
   "metadata": {},
   "outputs": [],
   "source": [
    "# Seleccionar solo categoria y monto total\n",
    "sliced_columns = df[['Product Category', 'Total Amount']]\n",
    "print(\"Seleccionar solo Categoria y ventas globales\")\n",
    "print(sliced_columns)\n",
    "\n",
    "# Seleccionar filas y columnas específicas con loc\n",
    "loc_result = df.loc[5:10, ['Product Category', 'Age']]\n",
    "print(\"Visualizar de la columna 5 a la 10, los datos de Nombre y genero\")\n",
    "print(loc_result)\n",
    "\n",
    "# Seleccionar las primeras 5 columnas y 3 filas del dt\n",
    "iloc_result = df.iloc[0:5, 0:3]\n",
    "print(\"Visualizar 5 primeras filas y 3 primeras columnas\")\n",
    "print(iloc_result)"
   ]
  }
 ],
 "metadata": {
  "kernelspec": {
   "display_name": "Python 3",
   "language": "python",
   "name": "python3"
  },
  "language_info": {
   "codemirror_mode": {
    "name": "ipython",
    "version": 3
   },
   "file_extension": ".py",
   "mimetype": "text/x-python",
   "name": "python",
   "nbconvert_exporter": "python",
   "pygments_lexer": "ipython3",
   "version": "3.10.12"
  }
 },
 "nbformat": 4,
 "nbformat_minor": 2
}
