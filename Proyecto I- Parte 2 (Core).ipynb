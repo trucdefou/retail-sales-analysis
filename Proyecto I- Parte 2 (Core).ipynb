{
 "cells": [
  {
   "cell_type": "markdown",
   "metadata": {},
   "source": [
    "Tarea: Proyecto I. Parte 2 (Core)\n",
    "Nombre: Luciano Benjamín Recalde Carballo"
   ]
  },
  {
   "cell_type": "markdown",
   "metadata": {},
   "source": [
    "Cargar los Datos"
   ]
  },
  {
   "cell_type": "code",
   "execution_count": 16,
   "metadata": {},
   "outputs": [
    {
     "name": "stdout",
     "output_type": "stream",
     "text": [
      "Primeras filas del DataFrame:\n",
      "   Transaction ID        Date Customer ID  Gender  Age Product Category  \\\n",
      "0               1  2023-11-24     CUST001    Male   34           Beauty   \n",
      "1               2  2023-02-27     CUST002  Female   26         Clothing   \n",
      "2               3  2023-01-13     CUST003    Male   50      Electronics   \n",
      "3               4  2023-05-21     CUST004    Male   37         Clothing   \n",
      "4               5  2023-05-06     CUST005    Male   30           Beauty   \n",
      "5               6  2023-04-25     CUST006  Female   45           Beauty   \n",
      "6               7  2023-03-13     CUST007    Male   46         Clothing   \n",
      "7               8  2023-02-22     CUST008    Male   30      Electronics   \n",
      "8               9  2023-12-13     CUST009    Male   63      Electronics   \n",
      "9              10  2023-10-07     CUST010  Female   52         Clothing   \n",
      "\n",
      "   Quantity  Price per Unit  Total Amount  \n",
      "0         3              50           150  \n",
      "1         2             500          1000  \n",
      "2         1              30            30  \n",
      "3         1             500           500  \n",
      "4         2              50           100  \n",
      "5         1              30            30  \n",
      "6         2              25            50  \n",
      "7         4              25           100  \n",
      "8         2             300           600  \n",
      "9         4              50           200  \n"
     ]
    }
   ],
   "source": [
    "import pandas as pd\n",
    "df = pd.read_csv('data/retail_sales_dataset.csv')\n",
    "\n",
    "# Ver las primeras filas del DataFrame\n",
    "print(\"Primeras filas del DataFrame:\")\n",
    "print(df.head(10))"
   ]
  },
  {
   "cell_type": "markdown",
   "metadata": {},
   "source": [
    "Exploración Inicial de los Datos"
   ]
  },
  {
   "cell_type": "code",
   "execution_count": 17,
   "metadata": {},
   "outputs": [
    {
     "name": "stdout",
     "output_type": "stream",
     "text": [
      "Últimas filas del DataFrame:\n",
      "     Transaction ID        Date Customer ID  Gender  Age Product Category  \\\n",
      "995             996  2023-05-16     CUST996    Male   62         Clothing   \n",
      "996             997  2023-11-17     CUST997    Male   52           Beauty   \n",
      "997             998  2023-10-29     CUST998  Female   23           Beauty   \n",
      "998             999  2023-12-05     CUST999  Female   36      Electronics   \n",
      "999            1000  2023-04-12    CUST1000    Male   47      Electronics   \n",
      "\n",
      "     Quantity  Price per Unit  Total Amount  \n",
      "995         1              50            50  \n",
      "996         3              30            90  \n",
      "997         4              25           100  \n",
      "998         3              50           150  \n",
      "999         4              30           120  \n",
      "Información del DataFrame:\n",
      "<class 'pandas.core.frame.DataFrame'>\n",
      "RangeIndex: 1000 entries, 0 to 999\n",
      "Data columns (total 9 columns):\n",
      " #   Column            Non-Null Count  Dtype \n",
      "---  ------            --------------  ----- \n",
      " 0   Transaction ID    1000 non-null   int64 \n",
      " 1   Date              1000 non-null   object\n",
      " 2   Customer ID       1000 non-null   object\n",
      " 3   Gender            1000 non-null   object\n",
      " 4   Age               1000 non-null   int64 \n",
      " 5   Product Category  1000 non-null   object\n",
      " 6   Quantity          1000 non-null   int64 \n",
      " 7   Price per Unit    1000 non-null   int64 \n",
      " 8   Total Amount      1000 non-null   int64 \n",
      "dtypes: int64(5), object(4)\n",
      "memory usage: 70.4+ KB\n",
      "None\n",
      "Estadísticas descriptivas del DataFrame:\n",
      "       Transaction ID         Age     Quantity  Price per Unit  Total Amount\n",
      "count     1000.000000  1000.00000  1000.000000     1000.000000   1000.000000\n",
      "mean       500.500000    41.39200     2.514000      179.890000    456.000000\n",
      "std        288.819436    13.68143     1.132734      189.681356    559.997632\n",
      "min          1.000000    18.00000     1.000000       25.000000     25.000000\n",
      "25%        250.750000    29.00000     1.000000       30.000000     60.000000\n",
      "50%        500.500000    42.00000     3.000000       50.000000    135.000000\n",
      "75%        750.250000    53.00000     4.000000      300.000000    900.000000\n",
      "max       1000.000000    64.00000     4.000000      500.000000   2000.000000\n"
     ]
    }
   ],
   "source": [
    "# Ver últimas filas del DataFrame\n",
    "print(\"Últimas filas del DataFrame:\")\n",
    "print(df.tail(5))\n",
    "# Obtener información general sobre el DataFrame\n",
    "print(\"Información del DataFrame:\")\n",
    "print(df.info())\n",
    "# Generar estadísticas descriptivas\n",
    "print(\"Estadísticas descriptivas del DataFrame:\")\n",
    "print(df.describe())"
   ]
  },
  {
   "cell_type": "markdown",
   "metadata": {},
   "source": [
    "Inspección de los Datos"
   ]
  },
  {
   "cell_type": "code",
   "execution_count": 18,
   "metadata": {},
   "outputs": [
    {
     "name": "stdout",
     "output_type": "stream",
     "text": [
      "Tipos de datos de las columnas:\n",
      "Transaction ID       int64\n",
      "Date                object\n",
      "Customer ID         object\n",
      "Gender              object\n",
      "Age                  int64\n",
      "Product Category    object\n",
      "Quantity             int64\n",
      "Price per Unit       int64\n",
      "Total Amount         int64\n",
      "dtype: object\n",
      "Conteo de valores únicos en la columna 'Product Category':\n",
      "Product Category\n",
      "Clothing       351\n",
      "Electronics    342\n",
      "Beauty         307\n",
      "Name: count, dtype: int64\n",
      "Valores únicos en la columna 'Gender':\n",
      "['Male' 'Female']\n"
     ]
    }
   ],
   "source": [
    "# Inspeccionar los tipos de datos de las columnas\n",
    "print(\"Tipos de datos de las columnas:\")\n",
    "print(df.dtypes)\n",
    "\n",
    "# Contar valores únicos en una columna específica\n",
    "print(\"Conteo de valores únicos en la columna 'Product Category':\")\n",
    "print(df['Product Category'].value_counts())\n",
    "\n",
    "# Obtener valores únicos en una columna específica (se usa Gender, por que el dataset no coincide con lo que pide el ejercicio)\n",
    "print(\"Valores únicos en la columna 'Gender':\")\n",
    "print(df['Gender'].unique())"
   ]
  },
  {
   "cell_type": "markdown",
   "metadata": {},
   "source": [
    "Filtrado de Datos"
   ]
  },
  {
   "cell_type": "code",
   "execution_count": 19,
   "metadata": {},
   "outputs": [
    {
     "name": "stdout",
     "output_type": "stream",
     "text": [
      "Filtrar ventas > 3\n",
      "     Transaction ID        Date Customer ID  Gender  Age Product Category  \\\n",
      "7                 8  2023-02-22     CUST008    Male   30      Electronics   \n",
      "9                10  2023-10-07     CUST010  Female   52         Clothing   \n",
      "13               14  2023-01-17     CUST014    Male   64         Clothing   \n",
      "14               15  2023-01-16     CUST015  Female   42      Electronics   \n",
      "16               17  2023-04-22     CUST017  Female   27         Clothing   \n",
      "..              ...         ...         ...     ...  ...              ...   \n",
      "970             971  2023-12-05     CUST971  Female   27      Electronics   \n",
      "971             972  2023-02-11     CUST972    Male   49           Beauty   \n",
      "974             975  2023-03-30     CUST975  Female   56         Clothing   \n",
      "997             998  2023-10-29     CUST998  Female   23           Beauty   \n",
      "999            1000  2023-04-12    CUST1000    Male   47      Electronics   \n",
      "\n",
      "     Quantity  Price per Unit  Total Amount  \n",
      "7           4              25           100  \n",
      "9           4              50           200  \n",
      "13          4              30           120  \n",
      "14          4             500          2000  \n",
      "16          4              25           100  \n",
      "..        ...             ...           ...  \n",
      "970         4              50           200  \n",
      "971         4              25           100  \n",
      "974         4              50           200  \n",
      "997         4              25           100  \n",
      "999         4              30           120  \n",
      "\n",
      "[263 rows x 9 columns]\n",
      "Precios menores a 30\n",
      "     Transaction ID        Date Customer ID  Gender  Age Product Category  \\\n",
      "6                 7  2023-03-13     CUST007    Male   46         Clothing   \n",
      "7                 8  2023-02-22     CUST008    Male   30      Electronics   \n",
      "11               12  2023-10-30     CUST012    Male   35           Beauty   \n",
      "16               17  2023-04-22     CUST017  Female   27         Clothing   \n",
      "17               18  2023-04-30     CUST018  Female   47      Electronics   \n",
      "..              ...         ...         ...     ...  ...              ...   \n",
      "979             980  2023-07-29     CUST980  Female   31      Electronics   \n",
      "984             985  2023-05-30     CUST985  Female   19      Electronics   \n",
      "987             988  2023-05-28     CUST988  Female   63         Clothing   \n",
      "988             989  2023-12-28     CUST989  Female   44      Electronics   \n",
      "997             998  2023-10-29     CUST998  Female   23           Beauty   \n",
      "\n",
      "     Quantity  Price per Unit  Total Amount  \n",
      "6           2              25            50  \n",
      "7           4              25           100  \n",
      "11          3              25            75  \n",
      "16          4              25           100  \n",
      "17          2              25            50  \n",
      "..        ...             ...           ...  \n",
      "979         3              25            75  \n",
      "984         2              25            50  \n",
      "987         3              25            75  \n",
      "988         1              25            25  \n",
      "997         4              25           100  \n",
      "\n",
      "[210 rows x 9 columns]\n",
      "Query de Productos de electrónica con monto total superior a 500\n",
      "     Transaction ID        Date Customer ID  Gender  Age Product Category  \\\n",
      "8                 9  2023-12-13     CUST009    Male   63      Electronics   \n",
      "12               13  2023-08-05     CUST013    Male   22      Electronics   \n",
      "14               15  2023-01-16     CUST015  Female   42      Electronics   \n",
      "25               26  2023-10-07     CUST026  Female   28      Electronics   \n",
      "30               31  2023-05-23     CUST031    Male   44      Electronics   \n",
      "..              ...         ...         ...     ...  ...              ...   \n",
      "926             927  2023-06-24     CUST927    Male   43      Electronics   \n",
      "945             946  2023-05-08     CUST946    Male   62      Electronics   \n",
      "953             954  2023-09-25     CUST954  Female   50      Electronics   \n",
      "965             966  2023-02-20     CUST966    Male   60      Electronics   \n",
      "969             970  2023-05-16     CUST970    Male   59      Electronics   \n",
      "\n",
      "     Quantity  Price per Unit  Total Amount  \n",
      "8           2             300           600  \n",
      "12          3             500          1500  \n",
      "14          4             500          2000  \n",
      "25          2             500          1000  \n",
      "30          4             300          1200  \n",
      "..        ...             ...           ...  \n",
      "926         4             500          2000  \n",
      "945         4             500          2000  \n",
      "953         3             300           900  \n",
      "965         2             500          1000  \n",
      "969         4             500          2000  \n",
      "\n",
      "[100 rows x 9 columns]\n"
     ]
    }
   ],
   "source": [
    "# Filtrar ventas > 50 \n",
    "ventas_mayor_50 = df[df['Quantity'] > 3]  #se cambia el filtrado por 3, ya que el dataset no está diseçado para este ejercicio. Jamás se llega a ventas superiores a 50 unidades.\n",
    "print(\"Filtrar ventas > 3\")\n",
    "print(ventas_mayor_50)\n",
    "\n",
    "# Filtrar precio > 0.5\n",
    "precio_menor_05 = df[df['Price per Unit'] < 30] #se cambia el filtrado por 10, mis razón que arriba. Los precios del enunciado son muy bajos en comparación a los precios del dataset.\n",
    "print(\"Precios menores a 30\")\n",
    "print(precio_menor_05)\n",
    "\n",
    "# Método Query para categoria electrónica y cantidad total mayor a 500. El queryset original del ejercicio no coincide con el enunciado\n",
    "query_result = df.query('`Product Category` == \"Electronics\" & `Total Amount` > 500')\n",
    "print(\"Query de Productos de electrónica con monto total superior a 500\")\n",
    "print(query_result)"
   ]
  },
  {
   "cell_type": "markdown",
   "metadata": {},
   "source": [
    "Slicing de Datos"
   ]
  },
  {
   "cell_type": "code",
   "execution_count": 20,
   "metadata": {},
   "outputs": [
    {
     "name": "stdout",
     "output_type": "stream",
     "text": [
      "Seleccionar solo Categoria y ventas globales\n",
      "    Product Category  Total Amount\n",
      "0             Beauty           150\n",
      "1           Clothing          1000\n",
      "2        Electronics            30\n",
      "3           Clothing           500\n",
      "4             Beauty           100\n",
      "..               ...           ...\n",
      "995         Clothing            50\n",
      "996           Beauty            90\n",
      "997           Beauty           100\n",
      "998      Electronics           150\n",
      "999      Electronics           120\n",
      "\n",
      "[1000 rows x 2 columns]\n",
      "Visualizar de la columna 5 a la 10, los datos de Nombre y genero\n",
      "   Product Category  Age\n",
      "5            Beauty   45\n",
      "6          Clothing   46\n",
      "7       Electronics   30\n",
      "8       Electronics   63\n",
      "9          Clothing   52\n",
      "10         Clothing   23\n",
      "Visualizar 5 primeras filas y 3 primeras columnas\n",
      "   Transaction ID        Date Customer ID\n",
      "0               1  2023-11-24     CUST001\n",
      "1               2  2023-02-27     CUST002\n",
      "2               3  2023-01-13     CUST003\n",
      "3               4  2023-05-21     CUST004\n",
      "4               5  2023-05-06     CUST005\n"
     ]
    }
   ],
   "source": [
    "# Seleccionar solo categoria y monto total\n",
    "sliced_columns = df[['Product Category', 'Total Amount']]\n",
    "print(\"Seleccionar solo Categoria y ventas globales\")\n",
    "print(sliced_columns)\n",
    "\n",
    "# Seleccionar filas y columnas específicas con loc\n",
    "loc_result = df.loc[5:10, ['Product Category', 'Age']]\n",
    "print(\"Visualizar de la columna 5 a la 10, los datos de Nombre y genero\")\n",
    "print(loc_result)\n",
    "\n",
    "# Seleccionar las primeras 5 columnas y 3 filas del dt\n",
    "iloc_result = df.iloc[0:5, 0:3]\n",
    "print(\"Visualizar 5 primeras filas y 3 primeras columnas\")\n",
    "print(iloc_result)"
   ]
  }
 ],
 "metadata": {
  "kernelspec": {
   "display_name": "Python 3",
   "language": "python",
   "name": "python3"
  },
  "language_info": {
   "codemirror_mode": {
    "name": "ipython",
    "version": 3
   },
   "file_extension": ".py",
   "mimetype": "text/x-python",
   "name": "python",
   "nbconvert_exporter": "python",
   "pygments_lexer": "ipython3",
   "version": "3.10.12"
  }
 },
 "nbformat": 4,
 "nbformat_minor": 2
}
